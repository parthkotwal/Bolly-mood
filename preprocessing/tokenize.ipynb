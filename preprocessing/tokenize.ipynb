{
 "cells": [
  {
   "cell_type": "code",
   "execution_count": null,
   "metadata": {},
   "outputs": [],
   "source": [
    "from transformers import AutoTokenizer, AutoModelForMaskedLM\n",
    "import pandas as pd\n",
    "import numpy as np\n",
    "\n",
    "tokenizer = AutoTokenizer.from_pretrained(\"google/muril-base-cased\")\n",
    "model = AutoModelForMaskedLM.from_pretrained(\"google/muril-base-cased\")\n",
    "df = pd.read_csv('data/lyrics_cleaned_labelled.csv')\n",
    "\n",
    "def tokenize_lyrics(lyrics:str):\n",
    "    return tokenizer(lyrics, padding=True, truncation=True, max_length=128)\n",
    "\n",
    "def encode_lyrics(tokenized_lyrics:str):\n",
    "    input_ids = tokenized_lyrics['input_ids']\n",
    "    attention_mask = tokenized_lyrics['attention_mask']\n",
    "    \n",
    "    return {'input_ids': input_ids, 'attention_mask': attention_mask}\n",
    "\n",
    "df['tokenized_lyrics'] = np.vectorize(tokenize_lyrics)(df['cleaned_lyrics'])\n",
    "df['encoded_lyrics'] = np.vectorize(encode_lyrics)(df['tokenized_lyrics'])\n"
   ]
  },
  {
   "cell_type": "code",
   "execution_count": 3,
   "metadata": {},
   "outputs": [
    {
     "name": "stderr",
     "output_type": "stream",
     "text": [
      "Some weights of the model checkpoint at google/muril-base-cased were not used when initializing BertForMaskedLM: ['bert.pooler.dense.bias', 'bert.pooler.dense.weight', 'cls.seq_relationship.bias', 'cls.seq_relationship.weight']\n",
      "- This IS expected if you are initializing BertForMaskedLM from the checkpoint of a model trained on another task or with another architecture (e.g. initializing a BertForSequenceClassification model from a BertForPreTraining model).\n",
      "- This IS NOT expected if you are initializing BertForMaskedLM from the checkpoint of a model that you expect to be exactly identical (initializing a BertForSequenceClassification model from a BertForSequenceClassification model).\n"
     ]
    },
    {
     "data": {
      "text/html": [
       "<div>\n",
       "<style scoped>\n",
       "    .dataframe tbody tr th:only-of-type {\n",
       "        vertical-align: middle;\n",
       "    }\n",
       "\n",
       "    .dataframe tbody tr th {\n",
       "        vertical-align: top;\n",
       "    }\n",
       "\n",
       "    .dataframe thead th {\n",
       "        text-align: right;\n",
       "    }\n",
       "</style>\n",
       "<table border=\"1\" class=\"dataframe\">\n",
       "  <thead>\n",
       "    <tr style=\"text-align: right;\">\n",
       "      <th></th>\n",
       "      <th>artist</th>\n",
       "      <th>title</th>\n",
       "      <th>cleaned_lyrics</th>\n",
       "      <th>mood</th>\n",
       "    </tr>\n",
       "  </thead>\n",
       "  <tbody>\n",
       "    <tr>\n",
       "      <th>0</th>\n",
       "      <td>Aastha Gill</td>\n",
       "      <td>Kamariya</td>\n",
       "      <td>seeli peeli pa balam tod bharam chhod ghabrana...</td>\n",
       "      <td>Energetic</td>\n",
       "    </tr>\n",
       "    <tr>\n",
       "      <th>1</th>\n",
       "      <td>Aastha Gill</td>\n",
       "      <td>Hermosa</td>\n",
       "      <td>aauga kehnde barcelona ton utri ae dass mainu ...</td>\n",
       "      <td>Energetic</td>\n",
       "    </tr>\n",
       "    <tr>\n",
       "      <th>2</th>\n",
       "      <td>Aastha Gill</td>\n",
       "      <td>Naagin</td>\n",
       "      <td>long tara sana paradasa long tara sana paradas...</td>\n",
       "      <td>Energetic</td>\n",
       "    </tr>\n",
       "    <tr>\n",
       "      <th>3</th>\n",
       "      <td>Aastha Gill</td>\n",
       "      <td>Video Bana De</td>\n",
       "      <td>kamara kamaravala vadaya da ra ma lagada aja a...</td>\n",
       "      <td>Happy</td>\n",
       "    </tr>\n",
       "    <tr>\n",
       "      <th>4</th>\n",
       "      <td>Aastha Gill</td>\n",
       "      <td>Saara India</td>\n",
       "      <td>mixsingh house house house sana madaa va ha ka...</td>\n",
       "      <td>Happy</td>\n",
       "    </tr>\n",
       "    <tr>\n",
       "      <th>...</th>\n",
       "      <td>...</td>\n",
       "      <td>...</td>\n",
       "      <td>...</td>\n",
       "      <td>...</td>\n",
       "    </tr>\n",
       "    <tr>\n",
       "      <th>1049</th>\n",
       "      <td>Vishal Dadlani</td>\n",
       "      <td>Good Morning</td>\n",
       "      <td>phararata phana khararata mara utha ra utha pa...</td>\n",
       "      <td>Energetic</td>\n",
       "    </tr>\n",
       "    <tr>\n",
       "      <th>1050</th>\n",
       "      <td>Vishal Dadlani</td>\n",
       "      <td>Womaniya</td>\n",
       "      <td>jaya hanamana janana gana sagara jaya kapasa t...</td>\n",
       "      <td>Romantic</td>\n",
       "    </tr>\n",
       "    <tr>\n",
       "      <th>1051</th>\n",
       "      <td>Vishal Dadlani</td>\n",
       "      <td>Aadat Hai Voh</td>\n",
       "      <td>kaba lafafa ma qasasa ma kataba ma farasata ma...</td>\n",
       "      <td>Romantic</td>\n",
       "    </tr>\n",
       "    <tr>\n",
       "      <th>1052</th>\n",
       "      <td>Vishal Dadlani</td>\n",
       "      <td>Aao Na</td>\n",
       "      <td>jala jala jala daya jala zadaga oo jala jala j...</td>\n",
       "      <td>Romantic</td>\n",
       "    </tr>\n",
       "    <tr>\n",
       "      <th>1053</th>\n",
       "      <td>Vishal Dadlani</td>\n",
       "      <td>Bappa</td>\n",
       "      <td>e vaghanaharata ha bapapa vaghanaharata sahasa...</td>\n",
       "      <td>Devotional</td>\n",
       "    </tr>\n",
       "  </tbody>\n",
       "</table>\n",
       "<p>1054 rows × 4 columns</p>\n",
       "</div>"
      ],
      "text/plain": [
       "              artist          title  \\\n",
       "0        Aastha Gill       Kamariya   \n",
       "1        Aastha Gill        Hermosa   \n",
       "2        Aastha Gill         Naagin   \n",
       "3        Aastha Gill  Video Bana De   \n",
       "4        Aastha Gill    Saara India   \n",
       "...              ...            ...   \n",
       "1049  Vishal Dadlani   Good Morning   \n",
       "1050  Vishal Dadlani       Womaniya   \n",
       "1051  Vishal Dadlani  Aadat Hai Voh   \n",
       "1052  Vishal Dadlani         Aao Na   \n",
       "1053  Vishal Dadlani          Bappa   \n",
       "\n",
       "                                         cleaned_lyrics        mood  \n",
       "0     seeli peeli pa balam tod bharam chhod ghabrana...   Energetic  \n",
       "1     aauga kehnde barcelona ton utri ae dass mainu ...   Energetic  \n",
       "2     long tara sana paradasa long tara sana paradas...   Energetic  \n",
       "3     kamara kamaravala vadaya da ra ma lagada aja a...       Happy  \n",
       "4     mixsingh house house house sana madaa va ha ka...       Happy  \n",
       "...                                                 ...         ...  \n",
       "1049  phararata phana khararata mara utha ra utha pa...   Energetic  \n",
       "1050  jaya hanamana janana gana sagara jaya kapasa t...    Romantic  \n",
       "1051  kaba lafafa ma qasasa ma kataba ma farasata ma...    Romantic  \n",
       "1052  jala jala jala daya jala zadaga oo jala jala j...    Romantic  \n",
       "1053  e vaghanaharata ha bapapa vaghanaharata sahasa...  Devotional  \n",
       "\n",
       "[1054 rows x 4 columns]"
      ]
     },
     "execution_count": 3,
     "metadata": {},
     "output_type": "execute_result"
    }
   ],
   "source": [
    "from transformers import AutoTokenizer, AutoModelForMaskedLM\n",
    "import pandas as pd\n",
    "import os\n",
    "\n",
    "tokenizer = AutoTokenizer.from_pretrained(\"google/muril-base-cased\")\n",
    "model = AutoModelForMaskedLM.from_pretrained(\"google/muril-base-cased\")\n",
    "data_path = os.path.join(\"..\", \"data\",\"lyrics_cleaned_labelled.csv\")\n",
    "df = pd.read_csv(data_path)\n",
    "df"
   ]
  },
  {
   "cell_type": "code",
   "execution_count": 8,
   "metadata": {},
   "outputs": [
    {
     "data": {
      "text/plain": [
       "0       [input_ids, token_type_ids, attention_mask]\n",
       "1       [input_ids, token_type_ids, attention_mask]\n",
       "2       [input_ids, token_type_ids, attention_mask]\n",
       "3       [input_ids, token_type_ids, attention_mask]\n",
       "4       [input_ids, token_type_ids, attention_mask]\n",
       "                           ...                     \n",
       "1049    [input_ids, token_type_ids, attention_mask]\n",
       "1050    [input_ids, token_type_ids, attention_mask]\n",
       "1051    [input_ids, token_type_ids, attention_mask]\n",
       "1052    [input_ids, token_type_ids, attention_mask]\n",
       "1053    [input_ids, token_type_ids, attention_mask]\n",
       "Name: tokenized_lyrics, Length: 1054, dtype: object"
      ]
     },
     "execution_count": 8,
     "metadata": {},
     "output_type": "execute_result"
    }
   ],
   "source": [
    "def tokenize_lyrics(lyrics:str):\n",
    "    return tokenizer(lyrics, padding=True, truncation=True, max_length=128)\n",
    "\n",
    "df['tokenized_lyrics'] = [tokenize_lyrics(lyric) for lyric in df['cleaned_lyrics']]\n",
    "df['tokenized_lyrics']"
   ]
  },
  {
   "cell_type": "code",
   "execution_count": 9,
   "metadata": {},
   "outputs": [
    {
     "data": {
      "text/plain": [
       "0       {'input_ids': [104, 2455, 3547, 175240, 1206, ...\n",
       "1       {'input_ids': [104, 178675, 4057, 1159, 26871,...\n",
       "2       {'input_ids': [104, 2650, 10007, 17981, 1192, ...\n",
       "3       {'input_ids': [104, 105786, 2219, 105786, 7093...\n",
       "4       {'input_ids': [104, 22351, 99807, 2949, 2949, ...\n",
       "                              ...                        \n",
       "1049    {'input_ids': [104, 182093, 8747, 45540, 18209...\n",
       "1050    {'input_ids': [104, 3613, 1942, 10596, 30407, ...\n",
       "1051    {'input_ids': [104, 60971, 1192, 6180, 19838, ...\n",
       "1052    {'input_ids': [104, 26170, 1192, 26170, 1192, ...\n",
       "1053    {'input_ids': [104, 176, 3373, 95255, 108181, ...\n",
       "Name: encoded_lyrics, Length: 1054, dtype: object"
      ]
     },
     "execution_count": 9,
     "metadata": {},
     "output_type": "execute_result"
    }
   ],
   "source": [
    "def encode_lyrics(tokenized_lyrics):\n",
    "    return {'input_ids': tokenized_lyrics['input_ids'], 'attention_mask': tokenized_lyrics['attention_mask']}\n",
    "\n",
    "df['encoded_lyrics'] = [encode_lyrics(lyric) for lyric in df['tokenized_lyrics']]\n",
    "df['encoded_lyrics']"
   ]
  },
  {
   "cell_type": "code",
   "execution_count": 11,
   "metadata": {},
   "outputs": [
    {
     "data": {
      "text/plain": [
       "0       2\n",
       "1       2\n",
       "2       2\n",
       "3       3\n",
       "4       3\n",
       "       ..\n",
       "1049    2\n",
       "1050    6\n",
       "1051    6\n",
       "1052    6\n",
       "1053    1\n",
       "Name: mood, Length: 1054, dtype: int64"
      ]
     },
     "execution_count": 11,
     "metadata": {},
     "output_type": "execute_result"
    }
   ],
   "source": [
    "from sklearn.preprocessing import LabelEncoder\n",
    "labelencoder = LabelEncoder()\n",
    "df['mood'] = labelencoder.fit_transform(df['mood'])\n",
    "df['mood']"
   ]
  },
  {
   "cell_type": "code",
   "execution_count": 13,
   "metadata": {},
   "outputs": [],
   "source": [
    "from sklearn.model_selection import train_test_split\n",
    "train_df, test_df = train_test_split(df, test_size=0.2, stratify=df['mood'], random_state=42)\n",
    "train_df, val_df = train_test_split(train_df, test_size=0.1, stratify=train_df['mood'], random_state=42)"
   ]
  },
  {
   "cell_type": "code",
   "execution_count": 15,
   "metadata": {},
   "outputs": [],
   "source": [
    "import torch\n",
    "from torch.utils.data import Dataset\n",
    "\n",
    "class LyricsDataset(Dataset):\n",
    "    def __init__(self, df):\n",
    "        self.input_ids = [[x['input_ids'] for x in df['encoded_lyrics']]]        \n",
    "        self.attention_mask = [[x['attention_mask'] for x in df['encoded_lyrics']]]\n",
    "        self.labels = df['mood'].tolist\n",
    "\n",
    "    def __getitem__(self, x):\n",
    "        return {\n",
    "            'input_ids': torch.tensor(self.input_ids[x], dtype=torch.long),\n",
    "            'attention_mask': torch.tensor(self.attention_mask[x], dtype=torch.long),\n",
    "            'labels': torch.tensor(self.labels[x], dtype=torch.long)\n",
    "        }\n",
    "    \n",
    "    def __len__(self):\n",
    "        return len(self.input_ids)\n",
    "\n",
    "train_dataset = LyricsDataset(train_df)\n",
    "val_dataset = LyricsDataset(val_df)\n",
    "test_dataset = LyricsDataset(test_df)"
   ]
  },
  {
   "cell_type": "code",
   "execution_count": null,
   "metadata": {},
   "outputs": [],
   "source": []
  }
 ],
 "metadata": {
  "kernelspec": {
   "display_name": "Python 3",
   "language": "python",
   "name": "python3"
  },
  "language_info": {
   "codemirror_mode": {
    "name": "ipython",
    "version": 3
   },
   "file_extension": ".py",
   "mimetype": "text/x-python",
   "name": "python",
   "nbconvert_exporter": "python",
   "pygments_lexer": "ipython3",
   "version": "3.11.5"
  }
 },
 "nbformat": 4,
 "nbformat_minor": 4
}
